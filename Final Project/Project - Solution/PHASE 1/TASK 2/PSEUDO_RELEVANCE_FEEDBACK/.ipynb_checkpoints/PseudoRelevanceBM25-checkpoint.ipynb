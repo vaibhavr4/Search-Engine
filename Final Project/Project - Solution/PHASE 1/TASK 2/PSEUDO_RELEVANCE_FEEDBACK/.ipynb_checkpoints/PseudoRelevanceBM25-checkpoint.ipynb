{
 "cells": [
  {
   "cell_type": "code",
   "execution_count": 1,
   "metadata": {
    "collapsed": true
   },
   "outputs": [],
   "source": [
    "import os\n",
    "from math import log, sqrt"
   ]
  },
  {
   "cell_type": "code",
   "execution_count": 2,
   "metadata": {
    "collapsed": true
   },
   "outputs": [],
   "source": [
    "QUERY = \"query.txt\"\n",
    "PSEUDO_RELEVANCE_BM_25_SCORE_LIST = \"PSEUDO_RELEVANCE_BM25_SCORE_LIST.txt\"\n",
    "CACM_REL = \"cacm.rel.txt\"\n",
    "INPUT_DIRECTORY = \"CORPUS\"\n",
    "INPUT_FOLDER = os.getcwd() + \"/\" + INPUT_DIRECTORY\n",
    "k1 = 1.2\n",
    "k2 = 100\n",
    "b = 0.75\n",
    "ALPHA = 1\n",
    "BETA = 0.75\n",
    "GAMMA = 0.15\n",
    "N = len(os.listdir(INPUT_FOLDER))"
   ]
  },
  {
   "cell_type": "code",
   "execution_count": 3,
   "metadata": {
    "collapsed": true
   },
   "outputs": [],
   "source": [
    "def generateInvertedIndex():\n",
    "    invertedIndex = {}\n",
    "    tokenDict = {}\n",
    "    files = os.listdir(INPUT_FOLDER)\n",
    "    for file in files:\n",
    "        contents = open(INPUT_DIRECTORY + \"/\" + file, \"r\").read()\n",
    "        words = contents.split()\n",
    "        length = len(words)\n",
    "        file = file[:-4]\n",
    "        tokenDict[file] = length\n",
    "        for i in range(length):\n",
    "            word = words[i]\n",
    "            if word not in invertedIndex.keys():\n",
    "                docIDCount = {file : 1}\n",
    "                invertedIndex[word] = docIDCount\n",
    "            elif file in invertedIndex[word].keys():\n",
    "                invertedIndex[word][file] += 1\n",
    "            else:\n",
    "                docIDCount = {file : 1}\n",
    "                invertedIndex[word].update(docIDCount)\n",
    "    return invertedIndex"
   ]
  },
  {
   "cell_type": "code",
   "execution_count": 4,
   "metadata": {
    "collapsed": true
   },
   "outputs": [],
   "source": [
    "def queryParser(query):\n",
    "    file = open(query,'r').read().splitlines()\n",
    "    queries = []\n",
    "    for query in file:\n",
    "        queries.append(query.split())\n",
    "    return queries"
   ]
  },
  {
   "cell_type": "code",
   "execution_count": 5,
   "metadata": {
    "collapsed": true
   },
   "outputs": [],
   "source": [
    "def queryFrequency(query):\n",
    "    queryFreq = {}\n",
    "    for term in query:\n",
    "        if term in queryFreq.keys():\n",
    "            queryFreq[term] += 1\n",
    "        else:\n",
    "            queryFreq[term] = 1\n",
    "    return queryFreq"
   ]
  },
  {
   "cell_type": "code",
   "execution_count": 6,
   "metadata": {
    "collapsed": true
   },
   "outputs": [],
   "source": [
    "def calculateLength():\n",
    "    fileLengths = {}\n",
    "    files = os.listdir(\"CORPUS\")\n",
    "    for file in files:\n",
    "        doc = open(\"CORPUS/\" + file,'r').read()\n",
    "        file = file[:-4]\n",
    "        fileLengths[file] = len(doc.split())\n",
    "    return fileLengths"
   ]
  },
  {
   "cell_type": "code",
   "execution_count": 7,
   "metadata": {
    "collapsed": true
   },
   "outputs": [],
   "source": [
    "def calculateAverageLength(fileLengths):\n",
    "    avgLength = 0\n",
    "    for file in fileLengths.keys():\n",
    "        avgLength += fileLengths[file]\n",
    "    return avgLength/N"
   ]
  },
  {
   "cell_type": "code",
   "execution_count": 8,
   "metadata": {
    "collapsed": true
   },
   "outputs": [],
   "source": [
    "def calculateBM25(n, f, qf, r, N, dl, avdl, R):\n",
    "    K = k1 * ((1 - b) + b * (float(dl) / float(avdl)))\n",
    "    Q1 = log(((r + 0.5) / (R - r + 0.5)) / ((n - r + 0.5) / (N - n - R + r + 0.5)))\n",
    "    Q2 = ((k1 + 1) * f) / (K + f)\n",
    "    Q3 = ((k2 + 1) * qf) / (k2 + qf)\n",
    "    return Q1 * Q2 * Q3"
   ]
  },
  {
   "cell_type": "code",
   "execution_count": 9,
   "metadata": {
    "collapsed": true
   },
   "outputs": [],
   "source": [
    "def findr(listOfDocs, relDocs):\n",
    "    count = 0\n",
    "    for doc in listOfDocs:\n",
    "        if doc in relDocs:\n",
    "            count += 1\n",
    "    return count"
   ]
  },
  {
   "cell_type": "code",
   "execution_count": 10,
   "metadata": {
    "collapsed": true
   },
   "outputs": [],
   "source": [
    "def getRelevantList(queryID, docList):\n",
    "    file = open(CACM_REL, \"r\").read().splitlines()\n",
    "    relList = []\n",
    "    relDocs = []\n",
    "    for line in file:\n",
    "        values = line.split()\n",
    "        if values[0] == str(queryID):\n",
    "            relList.append(values[2])\n",
    "    for doc in docList.keys():\n",
    "        if doc in relList:\n",
    "            relDocs.append(doc)\n",
    "    return relDocs"
   ]
  },
  {
   "cell_type": "code",
   "execution_count": 11,
   "metadata": {
    "collapsed": true
   },
   "outputs": [],
   "source": [
    "def findDocs(k, sortedBM25Score, invertedIndex, relevancy):\n",
    "    relIndex = {}\n",
    "    nonRelIndex = {}\n",
    "    if relevancy == \"Relevant\":\n",
    "        for i in range(k):\n",
    "            doc,doc_score = sortedBM25Score[i]\n",
    "            relIndex = calculateDocsCount(doc, relIndex, invertedIndex)\n",
    "        return relIndex\n",
    "    elif relevancy == \"Non-Relevant\":\n",
    "        for i in range(k+1,len(sortedBM25Score)):\n",
    "            doc,doc_score = sortedBM25Score[i]\n",
    "            nonRelIndex = calculateDocsCount(doc, nonRelIndex, invertedIndex)\n",
    "        return nonRelIndex"
   ]
  },
  {
   "cell_type": "code",
   "execution_count": 12,
   "metadata": {
    "collapsed": true
   },
   "outputs": [],
   "source": [
    "def calculateDocsCount(doc, docIndex, invertedIndex):\n",
    "    doc= open(INPUT_FOLDER + \"/\" + doc + \".txt\").read()\n",
    "    for term in doc.split():\n",
    "        if term in docIndex.keys():\n",
    "            docIndex[term] += 1\n",
    "        else:\n",
    "            docIndex[term] = 1\n",
    "    for term in invertedIndex:\n",
    "        if term not in docIndex.keys():\n",
    "            docIndex[term] = 0\n",
    "    return docIndex"
   ]
  },
  {
   "cell_type": "code",
   "execution_count": 13,
   "metadata": {
    "collapsed": true
   },
   "outputs": [],
   "source": [
    "def findDocMagnitude(docIndex):\n",
    "    mag = 0\n",
    "    for term in docIndex:\n",
    "        mag += float(docIndex[term]**2)\n",
    "    return float(sqrt(mag))"
   ]
  },
  {
   "cell_type": "code",
   "execution_count": 14,
   "metadata": {
    "collapsed": true
   },
   "outputs": [],
   "source": [
    "def findRocchioScore(term, queryFreq, relDocMag, relIndex, nonRelMag, nonRelIndex):\n",
    "    Q1 = ALPHA * queryFreq[term] \n",
    "    Q2 = (BETA/relDocMag) * relIndex[term]\n",
    "    Q3 = (GAMMA/nonRelMag) * nonRelIndex[term]\n",
    "    rocchioScore = Q1 + Q2 - Q3\n",
    "    return rocchioScore"
   ]
  },
  {
   "cell_type": "code",
   "execution_count": 15,
   "metadata": {
    "collapsed": true
   },
   "outputs": [],
   "source": [
    "def findNewQuery(query, queryFreq, relDocMag, relIndex, nonRelMag, nonRelIndex, invertedIndex):\n",
    "    updatedQuery = {}\n",
    "    newQuery = query\n",
    "    for term in invertedIndex:\n",
    "        if term in queryFreq:\n",
    "            updatedQuery[term] = findRocchioScore(term, queryFreq, relDocMag, relIndex, nonRelMag, nonRelIndex)\n",
    "    sortedUpdatedQuery = sorted(updatedQuery.items(), key=lambda x:x[1], reverse=True)\n",
    "    if len(sortedUpdatedQuery)<20:\n",
    "        loopRange = len(sortedUpdatedQuery)\n",
    "    else:\n",
    "        loopRange = 20\n",
    "    for i in range(loopRange):\n",
    "        term,frequency = sortedUpdatedQuery[i]\n",
    "        if term not in query:\n",
    "            newQuery +=  \" \"\n",
    "            newQuery +=  term\n",
    "    return newQuery"
   ]
  },
  {
   "cell_type": "code",
   "execution_count": 16,
   "metadata": {
    "collapsed": true
   },
   "outputs": [],
   "source": [
    "def pseudoRelevanceFeedbackScores(sortedBM25Score, query, invertedIndex, fileLengths, relevant_list, queryID):\n",
    "    global feedbackFlag\n",
    "    feedbackFlag += 1\n",
    "    k = 10 # top 10 documents to be taken as relevant\n",
    "    queryFreq = queryFrequency(query)\n",
    "    relIndex = findDocs(k, sortedBM25Score, invertedIndex, \"Relevant\")\n",
    "    relDocMag = findDocMagnitude(relIndex)\n",
    "    nonRelIndex = findDocs(k, sortedBM25Score, invertedIndex, \"Non-Relevant\")\n",
    "    nonRelMag = findDocMagnitude(nonRelIndex)\n",
    "    newQuery = findNewQuery(query, queryFreq, relDocMag, relIndex, nonRelMag, nonRelIndex, invertedIndex)\n",
    "    PseudoRelevanceScoreList = findDocumentsForQuery(newQuery, invertedIndex, fileLengths, queryID)\n",
    "    return PseudoRelevanceScoreList"
   ]
  },
  {
   "cell_type": "code",
   "execution_count": 17,
   "metadata": {
    "collapsed": true
   },
   "outputs": [],
   "source": [
    "def findDocumentsForQuery(query, invertedIndex, fileLengths, queryID):\n",
    "    global feedbackFlag\n",
    "    N = len(fileLengths.keys())\n",
    "    queryFreq = queryFrequency(query)\n",
    "    avdl = calculateAverageLength(fileLengths)\n",
    "    BM25ScoreList = {}\n",
    "    relevantList = getRelevantList(queryID, fileLengths)\n",
    "    R = len(relevantList)\n",
    "    if type(query) != list:\n",
    "        query = query.split()\n",
    "    for term in query:\n",
    "        if term in invertedIndex.keys():\n",
    "            qf = queryFreq[term]\n",
    "            docDict = invertedIndex[term]\n",
    "            r = findr(invertedIndex[term], relevantList)\n",
    "            for doc in docDict:\n",
    "                n = len(docDict)\n",
    "                f = docDict[doc]\n",
    "                dl = fileLengths[doc]\n",
    "                BM25 = calculateBM25(n, f, qf, r, N, dl, avdl, R)\n",
    "                if doc in BM25ScoreList.keys():\n",
    "                    BM25ScoreList[doc] += BM25\n",
    "                else:\n",
    "                    BM25ScoreList[doc] = BM25\n",
    "    sortedBM25Score = sorted(BM25ScoreList.items(), key=lambda x:x[1], reverse=True)\n",
    "    if feedbackFlag == 1:\n",
    "        return pseudoRelevanceFeedbackScores(sortedBM25Score, query, invertedIndex , fileLengths, relevantList, queryID)\n",
    "    if feedbackFlag == 2:\n",
    "        feedbackFlag = 1\n",
    "        return BM25ScoreList"
   ]
  },
  {
   "cell_type": "code",
   "execution_count": 18,
   "metadata": {
    "collapsed": true
   },
   "outputs": [],
   "source": [
    "def writeToFile(queries, invertedIndex, fileLengths):\n",
    "    global feedbackFlag\n",
    "    queryID = 1\n",
    "    file = open(PSEUDO_RELEVANCE_BM_25_SCORE_LIST, \"w\")       \n",
    "    queryNames = open(QUERY, 'r').read().splitlines()\n",
    "    for query in queries:\n",
    "        feedbackFlag = 1\n",
    "        PSRBM25ScoreList = findDocumentsForQuery(query, invertedIndex, fileLengths, queryID)\n",
    "        sortedScoreList = sorted(PSRBM25ScoreList.items(), key=lambda x:x[1], reverse=True)\n",
    "        for rank in range(100):\n",
    "            text = str(queryID) +  \"   \" + \"Q0\" +  \"   \" + str(sortedScoreList[rank][0]) + \"   \" + str(rank+1) +  \"   \" + str(sortedScoreList[rank][1]) +  \"   \" + \"PSR-BM25\" +\"\\n\"\n",
    "            file.write(text)\n",
    "        file.write(\"\\n\\n ---------------------------------------------------------------------------------------\\n\\n\\n\")\n",
    "        print(\"Query\" + str(queryID) + \" Done!\")\n",
    "        queryID += 1\n",
    "    file.close()"
   ]
  },
  {
   "cell_type": "code",
   "execution_count": 19,
   "metadata": {
    "scrolled": true
   },
   "outputs": [
    {
     "name": "stdout",
     "output_type": "stream",
     "text": [
      "Query1 Done!\n",
      "Query2 Done!\n",
      "Query3 Done!\n",
      "Query4 Done!\n",
      "Query5 Done!\n",
      "Query6 Done!\n",
      "Query7 Done!\n",
      "Query8 Done!\n",
      "Query9 Done!\n",
      "Query10 Done!\n",
      "Query11 Done!\n",
      "Query12 Done!\n",
      "Query13 Done!\n",
      "Query14 Done!\n",
      "Query15 Done!\n",
      "Query16 Done!\n",
      "Query17 Done!\n",
      "Query18 Done!\n",
      "Query19 Done!\n",
      "Query20 Done!\n",
      "Query21 Done!\n",
      "Query22 Done!\n",
      "Query23 Done!\n",
      "Query24 Done!\n",
      "Query25 Done!\n",
      "Query26 Done!\n",
      "Query27 Done!\n",
      "Query28 Done!\n",
      "Query29 Done!\n",
      "Query30 Done!\n",
      "Query31 Done!\n",
      "Query32 Done!\n",
      "Query33 Done!\n",
      "Query34 Done!\n",
      "Query35 Done!\n",
      "Query36 Done!\n",
      "Query37 Done!\n",
      "Query38 Done!\n",
      "Query39 Done!\n",
      "Query40 Done!\n",
      "Query41 Done!\n",
      "Query42 Done!\n",
      "Query43 Done!\n",
      "Query44 Done!\n",
      "Query45 Done!\n",
      "Query46 Done!\n",
      "Query47 Done!\n",
      "Query48 Done!\n",
      "Query49 Done!\n",
      "Query50 Done!\n",
      "Query51 Done!\n",
      "Query52 Done!\n",
      "Query53 Done!\n",
      "Query54 Done!\n",
      "Query55 Done!\n",
      "Query56 Done!\n",
      "Query57 Done!\n",
      "Query58 Done!\n",
      "Query59 Done!\n",
      "Query60 Done!\n",
      "Query61 Done!\n",
      "Query62 Done!\n",
      "Query63 Done!\n",
      "Query64 Done!\n"
     ]
    }
   ],
   "source": [
    "def main():\n",
    "    queries = queryParser(QUERY)\n",
    "    invertedIndex = generateInvertedIndex()\n",
    "    fileLengths = calculateLength()\n",
    "    writeToFile(queries, invertedIndex, fileLengths)\n",
    "main()"
   ]
  },
  {
   "cell_type": "code",
   "execution_count": null,
   "metadata": {
    "collapsed": true
   },
   "outputs": [],
   "source": []
  }
 ],
 "metadata": {
  "kernelspec": {
   "display_name": "Python 3",
   "language": "python",
   "name": "python3"
  },
  "language_info": {
   "codemirror_mode": {
    "name": "ipython",
    "version": 3
   },
   "file_extension": ".py",
   "mimetype": "text/x-python",
   "name": "python",
   "nbconvert_exporter": "python",
   "pygments_lexer": "ipython3",
   "version": "3.6.1"
  }
 },
 "nbformat": 4,
 "nbformat_minor": 2
}
