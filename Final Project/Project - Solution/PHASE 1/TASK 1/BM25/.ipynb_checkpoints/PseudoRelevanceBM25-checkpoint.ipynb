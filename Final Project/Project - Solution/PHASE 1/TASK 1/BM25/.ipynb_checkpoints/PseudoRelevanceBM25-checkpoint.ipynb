{
 "cells": [
  {
   "cell_type": "code",
   "execution_count": 1,
   "metadata": {
    "collapsed": true
   },
   "outputs": [],
   "source": [
    "import os\n",
    "from math import log"
   ]
  },
  {
   "cell_type": "code",
   "execution_count": 2,
   "metadata": {
    "collapsed": true
   },
   "outputs": [],
   "source": [
    "QUERY = \"query.txt\"\n",
    "BM_25_SCORE_LIST = \"BM25_SCORE_LIST.txt\"\n",
    "CACM_REL = \"cacm.rel.txt\"\n",
    "INPUT_DIRECTORY = \"CORPUS\"\n",
    "INPUT_FOLDER = os.getcwd() + \"/\" + INPUT_DIRECTORY\n",
    "k1 = 1.2\n",
    "k2 = 100\n",
    "b = 0.75\n",
    "N = len(os.listdir(INPUT_FOLDER))"
   ]
  },
  {
   "cell_type": "code",
   "execution_count": 3,
   "metadata": {
    "collapsed": true
   },
   "outputs": [],
   "source": [
    "def generateInvertedIndex():\n",
    "    invertedIndex = {}\n",
    "    tokenDict = {}\n",
    "    files = os.listdir(INPUT_FOLDER)\n",
    "    for file in files:\n",
    "        contents = open(INPUT_DIRECTORY + \"/\" + file, \"r\").read()\n",
    "        words = contents.split()\n",
    "        length = len(words)\n",
    "        file = file[:-4]\n",
    "        tokenDict[file] = length\n",
    "        for i in range(length):\n",
    "            word = words[i]\n",
    "            if word not in invertedIndex.keys():\n",
    "                docIDCount = {file : 1}\n",
    "                invertedIndex[word] = docIDCount\n",
    "            elif file in invertedIndex[word].keys():\n",
    "                invertedIndex[word][file] += 1\n",
    "            else:\n",
    "                docIDCount = {file : 1}\n",
    "                invertedIndex[word].update(docIDCount)\n",
    "    return invertedIndex"
   ]
  },
  {
   "cell_type": "code",
   "execution_count": 4,
   "metadata": {
    "collapsed": true
   },
   "outputs": [],
   "source": [
    "def queryParser(query):\n",
    "    file = open(query,'r').read().splitlines()\n",
    "    queries = []\n",
    "    for query in file:\n",
    "        queries.append(query.split())\n",
    "    return queries"
   ]
  },
  {
   "cell_type": "code",
   "execution_count": 5,
   "metadata": {
    "collapsed": true
   },
   "outputs": [],
   "source": [
    "def queryFrequency(query):\n",
    "    queryFreq = {}\n",
    "    for term in query:\n",
    "        if term in queryFreq.keys():\n",
    "            queryFreq[term] += 1\n",
    "        else:\n",
    "            queryFreq[term] = 1\n",
    "    return queryFreq"
   ]
  },
  {
   "cell_type": "code",
   "execution_count": 6,
   "metadata": {
    "collapsed": true
   },
   "outputs": [],
   "source": [
    "def calculateLength():\n",
    "    fileLengths = {}\n",
    "    files = os.listdir(\"CORPUS\")\n",
    "    for file in files:\n",
    "        doc = open(\"CORPUS/\" + file,'r').read()\n",
    "        file = file[:-4]\n",
    "        fileLengths[file] = len(doc.split())\n",
    "    return fileLengths"
   ]
  },
  {
   "cell_type": "code",
   "execution_count": 7,
   "metadata": {
    "collapsed": true
   },
   "outputs": [],
   "source": [
    "def calculateAverageLength(fileLengths):\n",
    "    avgLength = 0\n",
    "    for file in fileLengths.keys():\n",
    "        avgLength += fileLengths[file]\n",
    "    return avgLength/N"
   ]
  },
  {
   "cell_type": "code",
   "execution_count": 8,
   "metadata": {
    "collapsed": true
   },
   "outputs": [],
   "source": [
    "def calculateBM25(n, f, qf, r, N, dl, avdl, R):\n",
    "    K = k1 * ((1 - b) + b * (float(dl) / float(avdl)))\n",
    "    Q1 = log(((r + 0.5) / (R - r + 0.5)) / ((n - r + 0.5) / (N - n - R + r + 0.5)))\n",
    "    Q2 = ((k1 + 1) * f) / (K + f)\n",
    "    Q3 = ((k2 + 1) * qf) / (k2 + qf)\n",
    "    return Q1 * Q2 * Q3"
   ]
  },
  {
   "cell_type": "code",
   "execution_count": 9,
   "metadata": {
    "collapsed": true
   },
   "outputs": [],
   "source": [
    "def findr(listOfDocs, relDocs):\n",
    "    count = 0\n",
    "    for doc in listOfDocs:\n",
    "        if doc in relDocs:\n",
    "            count += 1\n",
    "    return count"
   ]
  },
  {
   "cell_type": "code",
   "execution_count": 10,
   "metadata": {
    "collapsed": true
   },
   "outputs": [],
   "source": [
    "def getRelevantList(queryID, docList):\n",
    "    file = open(CACM_REL, \"r\").read().splitlines()\n",
    "    relList = []\n",
    "    relDocs = []\n",
    "    for line in file:\n",
    "        values = line.split()\n",
    "        if values[0] == str(queryID):\n",
    "            relList.append(values[2])\n",
    "    for doc in docList.keys():\n",
    "        if doc in relList:\n",
    "            relDocs.append(doc)\n",
    "    return relDocs"
   ]
  },
  {
   "cell_type": "code",
   "execution_count": 11,
   "metadata": {
    "collapsed": true
   },
   "outputs": [],
   "source": [
    "def findDocumentsForQuery(query, invertedIndex, fileLengths, queryID):\n",
    "    queryFreq = queryFrequency(query)\n",
    "    avdl = calculateAverageLength(fileLengths)\n",
    "    BM25ScoreList = {}\n",
    "    relevantList = getRelevantList(queryID, fileLengths)\n",
    "    R = len(relevantList)\n",
    "    for term in query:\n",
    "        if term in invertedIndex.keys():\n",
    "            qf = queryFreq[term]\n",
    "            docDict = invertedIndex[term]\n",
    "            r = findr(invertedIndex[term], relevantList)\n",
    "            for doc in docDict:\n",
    "                n = len(docDict)\n",
    "                f = docDict[doc]\n",
    "                dl = fileLengths[doc]\n",
    "                BM25 = calculateBM25(n, f, qf, r, N, dl, avdl, R)\n",
    "                if doc in BM25ScoreList.keys():\n",
    "                    BM25ScoreList[doc] += BM25\n",
    "                else:\n",
    "                    BM25ScoreList[doc] = BM25\n",
    "    return BM25ScoreList"
   ]
  },
  {
   "cell_type": "code",
   "execution_count": 12,
   "metadata": {
    "collapsed": true
   },
   "outputs": [],
   "source": [
    "def writeToFile(queries, invertedIndex, fileLengths):\n",
    "    queryID = 1\n",
    "    file = open(BM_25_SCORE_LIST, \"w\")       \n",
    "    queryNames = open(QUERY, 'r').read().splitlines()\n",
    "    for query in queries:\n",
    "        BM25ScoreList = findDocumentsForQuery(query, invertedIndex, fileLengths, queryID)\n",
    "        sortedScoreList = sorted(BM25ScoreList.items(), key=lambda x:x[1], reverse=True)\n",
    "        for rank in range(100):\n",
    "            text = str(queryID) +  \"   \" + \"Q0\" +  \"   \" + str(sortedScoreList[rank][0]) + \"   \" + str(rank+1) +  \"   \" + str(sortedScoreList[rank][1]) +  \"   \" + \"BM25\" +\"\\n\"\n",
    "            file.write(text)\n",
    "        file.write(\"\\n\\n ---------------------------------------------------------------------------------------\\n\\n\\n\")\n",
    "        queryID += 1\n",
    "    file.close()"
   ]
  },
  {
   "cell_type": "code",
   "execution_count": 13,
   "metadata": {
    "collapsed": true,
    "scrolled": true
   },
   "outputs": [],
   "source": [
    "def main():\n",
    "    queries = queryParser(QUERY)\n",
    "    invertedIndex = generateInvertedIndex()\n",
    "    fileLengths = calculateLength()\n",
    "    writeToFile(queries, invertedIndex, fileLengths)\n",
    "main()"
   ]
  }
 ],
 "metadata": {
  "kernelspec": {
   "display_name": "Python 3",
   "language": "python",
   "name": "python3"
  },
  "language_info": {
   "codemirror_mode": {
    "name": "ipython",
    "version": 3
   },
   "file_extension": ".py",
   "mimetype": "text/x-python",
   "name": "python",
   "nbconvert_exporter": "python",
   "pygments_lexer": "ipython3",
   "version": "3.6.1"
  }
 },
 "nbformat": 4,
 "nbformat_minor": 2
}
